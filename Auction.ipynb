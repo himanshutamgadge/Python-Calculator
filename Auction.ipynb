{
  "nbformat": 4,
  "nbformat_minor": 0,
  "metadata": {
    "colab": {
      "provenance": [],
      "authorship_tag": "ABX9TyMieffydYknEhmpNrsOG9l2",
      "include_colab_link": true
    },
    "kernelspec": {
      "name": "python3",
      "display_name": "Python 3"
    },
    "language_info": {
      "name": "python"
    }
  },
  "cells": [
    {
      "cell_type": "markdown",
      "metadata": {
        "id": "view-in-github",
        "colab_type": "text"
      },
      "source": [
        "<a href=\"https://colab.research.google.com/github/himanshutamgadge/Small-Python-Games/blob/main/Auction.ipynb\" target=\"_parent\"><img src=\"https://colab.research.google.com/assets/colab-badge.svg\" alt=\"Open In Colab\"/></a>"
      ]
    },
    {
      "cell_type": "code",
      "source": [
        "logo = r'''\n",
        "                         ___________\n",
        "                         \\         /\n",
        "                          )_______(\n",
        "                          |\"\"\"\"\"\"\"|_.-._,.---------.,_.-._\n",
        "                          |       | | |               | | ''-.\n",
        "                          |       |_| |_             _| |_..-'\n",
        "                          |_______| '-' `'---------'` '-'\n",
        "                          )\"\"\"\"\"\"\"(\n",
        "                         /_________\\\\\n",
        "                       .-------------.\n",
        "                      /_______________\\\\\n",
        "'''\n",
        "print(logo)\n",
        "print(\"                      Welcome to Auction\\n\\n\\n\")\n",
        "add=True\n",
        "dic={}\n",
        "def safe_bid():\n",
        "  while True:\n",
        "    try:\n",
        "        bid=int(input(\"Please enter your bid: \\n\"))\n",
        "        return bid\n",
        "    except ValueError:\n",
        "        print(\"Please enter a valid number\")\n",
        "while add:\n",
        "  name=input(\"Please enter your name: \\n\")\n",
        "  bid=safe_bid()\n",
        "  dic[name]=bid\n",
        "  new_entry=input(\"Are there any other bidders? Type 'yes' or 'no'.\\n\")\n",
        "  if new_entry=='no':\n",
        "    add=False\n",
        "  elif new_entry=='yes':\n",
        "    add=True\n",
        "  else:\n",
        "    print(\"Invalid input\")\n",
        "    add=False\n",
        "  print(\"\\n\" *50)\n",
        "\n",
        "\n",
        "for key in dic:\n",
        "  if dic[key]==max(dic.values()):\n",
        "    print(f\"The winner is {key} with a bid of ${dic[key]}\")\n",
        "# Another way:\n",
        "# max=0\n",
        "# for key in dic:\n",
        "#   if dic[key]>max:\n",
        "#     max=dic[key]\n",
        "#     winner=key\n",
        "# print(f\"The winner is {winner} with a bid of ${max}\")"
      ],
      "metadata": {
        "id": "nUX5-xORdwoD"
      },
      "execution_count": null,
      "outputs": []
    }
  ]
}