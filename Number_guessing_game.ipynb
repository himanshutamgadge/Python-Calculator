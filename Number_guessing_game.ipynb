{
  "nbformat": 4,
  "nbformat_minor": 0,
  "metadata": {
    "colab": {
      "provenance": [],
      "authorship_tag": "ABX9TyOQfH/Y8JLR25zmgOzO3fCM",
      "include_colab_link": true
    },
    "kernelspec": {
      "name": "python3",
      "display_name": "Python 3"
    },
    "language_info": {
      "name": "python"
    }
  },
  "cells": [
    {
      "cell_type": "markdown",
      "metadata": {
        "id": "view-in-github",
        "colab_type": "text"
      },
      "source": [
        "<a href=\"https://colab.research.google.com/github/himanshutamgadge/Small-Python-Games/blob/main/Number_guessing_game.ipynb\" target=\"_parent\"><img src=\"https://colab.research.google.com/assets/colab-badge.svg\" alt=\"Open In Colab\"/></a>"
      ]
    },
    {
      "cell_type": "code",
      "source": [
        "\n",
        "logo='''\n",
        "888888ba                      dP                             .88888.                                      oo                       .88888.\n",
        "88    `8b                     88                            d8'   `88                                                             d8'   `88\n",
        "88     88 dP    dP 88d8b.d8b. 88d888b. .d8888b. 88d888b.    88        dP    dP .d8888b. .d8888b. .d8888b. dP 88d888b. .d8888b.    88        .d8888b. 88d8b.d8b. .d8888b.\n",
        "88     88 88    88 88'`88'`88 88'  `88 88ooood8 88'  `88    88   YP88 88    88 88ooood8 Y8ooooo. Y8ooooo. 88 88'  `88 88'  `88    88   YP88 88'  `88 88'`88'`88 88ooood8\n",
        "88     88 88.  .88 88  88  88 88.  .88 88.  ... 88          Y8.   .88 88.  .88 88.  ...       88       88 88 88    88 88.  .88    Y8.   .88 88.  .88 88  88  88 88.  ...\n",
        "dP     dP `88888P' dP  dP  dP 88Y8888' `88888P' dP           `88888'  `88888P' `88888P' `88888P' `88888P' dP dP    dP `8888P88     `88888'  `88888P8 dP  dP  dP `88888P'\n",
        "                                                                                                                           .88\n",
        "                                                                                                                       d8888P\n",
        "\n",
        "'''\n",
        "import random as rd\n",
        "\n",
        "def dif():\n",
        "  while True:\n",
        "    difficulty = input(\"\\n Please choose the difficulty: enter 'easy' or 'hard': \").lower()\n",
        "    if difficulty == \"easy\":\n",
        "        return 10\n",
        "    elif difficulty == \"hard\":\n",
        "        return 5\n",
        "    else:\n",
        "        print(\"\\nInvalid input, please try again.\")\n",
        "\n",
        "def go():\n",
        "  global game_over\n",
        "  global play_again\n",
        "  if life==0:\n",
        "    print(\"\\nGame Over, you lose☹️\")\n",
        "    print(f\"\\nThe number was {num}\")\n",
        "    ask=input(\"\\nDo you want to play again? Enter'y' for yes and 'n' for no: \").lower()\n",
        "    if ask==\"y\":\n",
        "      play_again=False\n",
        "    elif ask==\"n\":\n",
        "        print(\"\\nThanks for playing🌻🌻\")\n",
        "        print(\"*\"*175)\n",
        "        play_again=True\n",
        "    else:\n",
        "      print(\"\\nInvalid input\")\n",
        "      play_again=True\n",
        "    game_over=True\n",
        "  else:\n",
        "    print(f\"\\nYou have {life} attempts remaining to guess the number\")\n",
        "\n",
        "play_again=False\n",
        "while play_again==False:\n",
        "  game_over=False\n",
        "  print(\"*\"*175)\n",
        "  print(\"\\n Welcome to number guessing game\")\n",
        "  num=rd.randint(1,100)\n",
        "  life=0\n",
        "  print(logo)\n",
        "  print(\"\\nI'm thinking of a number between 1 and 100\")\n",
        "  life=dif()\n",
        "  print(f\"\\nAttempts: {life}\")\n",
        "  while life>0 and game_over==False:\n",
        "    try:\n",
        "      guess=int(input(\"\\n Guess the number: \"))\n",
        "    except ValueError:\n",
        "      print(\"\\nInvalid input\")\n",
        "      continue\n",
        "    if guess>num:\n",
        "      print(\"\\nToo High\")\n",
        "      life-=1\n",
        "      go()\n",
        "    elif guess<num:\n",
        "      print(\"\\nToo Low\")\n",
        "      life-=1\n",
        "      go()\n",
        "    elif guess==num:\n",
        "      print(\"\\nYou Won🏆\")\n",
        "      ask=input(\"\\nDo you want to play again? Enter'y' for yes and 'n' for no: \").lower()\n",
        "      if ask==\"y\":\n",
        "        play_again=False\n",
        "      elif ask==\"n\":\n",
        "        print(\"\\nThanks for playing🌻🌻\")\n",
        "        print(\"*\"*175)\n",
        "        play_again=True\n",
        "      else:\n",
        "        print(\"\\nInvalid input\")\n",
        "        play_again=True\n",
        "      game_over=True"
      ],
      "metadata": {
        "id": "27KWtGZFMaSf"
      },
      "execution_count": null,
      "outputs": []
    }
  ]
}